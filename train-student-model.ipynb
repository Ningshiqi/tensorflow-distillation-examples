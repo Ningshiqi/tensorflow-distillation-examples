{
 "cells": [
  {
   "cell_type": "code",
   "execution_count": 1,
   "metadata": {
    "collapsed": true
   },
   "outputs": [],
   "source": [
    "from __future__ import absolute_import\n",
    "from __future__ import division\n",
    "from __future__ import print_function"
   ]
  },
  {
   "cell_type": "code",
   "execution_count": 2,
   "metadata": {
    "collapsed": true
   },
   "outputs": [],
   "source": [
    "import random\n",
    "import numpy as np\n",
    "import tensorflow as tf\n",
    "from tensorflow.examples.tutorials.mnist import input_data\n",
    "from sklearn.utils import shuffle\n",
    "import matplotlib.pyplot as plt\n",
    "\n",
    "%matplotlib inline"
   ]
  },
  {
   "cell_type": "code",
   "execution_count": 3,
   "metadata": {
    "collapsed": true
   },
   "outputs": [],
   "source": [
    "random.seed(123)\n",
    "np.random.seed(123)\n",
    "tf.set_random_seed(123)"
   ]
  },
  {
   "cell_type": "code",
   "execution_count": 4,
   "metadata": {},
   "outputs": [
    {
     "name": "stdout",
     "output_type": "stream",
     "text": [
      "Extracting MNIST_data/train-images-idx3-ubyte.gz\n",
      "Extracting MNIST_data/train-labels-idx1-ubyte.gz\n",
      "Extracting MNIST_data/t10k-images-idx3-ubyte.gz\n",
      "Extracting MNIST_data/t10k-labels-idx1-ubyte.gz\n"
     ]
    }
   ],
   "source": [
    "mnist = input_data.read_data_sets(\"MNIST_data/\", one_hot=True)"
   ]
  },
  {
   "cell_type": "code",
   "execution_count": 5,
   "metadata": {
    "collapsed": true
   },
   "outputs": [],
   "source": [
    "soft_targets = np.load(file=\"soft-targets.npy\")"
   ]
  },
  {
   "cell_type": "code",
   "execution_count": 6,
   "metadata": {
    "collapsed": true
   },
   "outputs": [],
   "source": [
    "n_epochs = 50\n",
    "batch_size = 50\n",
    "num_nodes_h1 = 600 # Before 800\n",
    "num_nodes_h2 = 600 # Before 800\n",
    "learning_rate = 0.001"
   ]
  },
  {
   "cell_type": "code",
   "execution_count": 7,
   "metadata": {
    "collapsed": true
   },
   "outputs": [],
   "source": [
    "n_batches = len(mnist.train.images) // batch_size"
   ]
  },
  {
   "cell_type": "code",
   "execution_count": 8,
   "metadata": {
    "collapsed": true
   },
   "outputs": [],
   "source": [
    "def weight_variable(shape):\n",
    "    initial = tf.truncated_normal(shape, stddev=0.1)\n",
    "    return tf.Variable(initial)\n",
    "\n",
    "def bias_variable(shape):\n",
    "    initial = tf.constant(0.1, shape=shape)\n",
    "    return tf.Variable(initial)"
   ]
  },
  {
   "cell_type": "code",
   "execution_count": 9,
   "metadata": {
    "collapsed": true
   },
   "outputs": [],
   "source": [
    "def softmax_with_temperature(logits, temp=1.0, axis=1, name=None):\n",
    "    logits_with_temp = logits / temp\n",
    "    _softmax = tf.exp(logits_with_temp) / tf.reduce_sum(tf.exp(logits_with_temp), \\\n",
    "                                                        axis=axis, keep_dims=True)\n",
    "    return _softmax"
   ]
  },
  {
   "cell_type": "code",
   "execution_count": 10,
   "metadata": {
    "collapsed": true
   },
   "outputs": [],
   "source": [
    "x = tf.placeholder(tf.float32, [None, 784])\n",
    "y_ = tf.placeholder(tf.float32, [None, 10])\n",
    "soft_target_ = tf.placeholder(tf.float32, [None, 10])\n",
    "\n",
    "keep_prob = tf.placeholder(tf.float32)\n",
    "T = tf.placeholder(tf.float32)"
   ]
  },
  {
   "cell_type": "code",
   "execution_count": 11,
   "metadata": {
    "collapsed": true
   },
   "outputs": [],
   "source": [
    "W_h1 = weight_variable([784, num_nodes_h1])\n",
    "b_h1 = bias_variable([num_nodes_h1])\n",
    "h1 = tf.nn.relu(tf.matmul(x, W_h1) + b_h1)\n",
    "h1_drop = tf.nn.dropout(h1, keep_prob)"
   ]
  },
  {
   "cell_type": "code",
   "execution_count": 12,
   "metadata": {
    "collapsed": true
   },
   "outputs": [],
   "source": [
    "W_h2 = weight_variable([num_nodes_h1, num_nodes_h2])\n",
    "b_h2 = bias_variable([num_nodes_h2])\n",
    "h2 = tf.nn.relu(tf.matmul(h1_drop, W_h2) + b_h2)\n",
    "h2_drop = tf.nn.dropout(h2, keep_prob)"
   ]
  },
  {
   "cell_type": "code",
   "execution_count": 13,
   "metadata": {
    "collapsed": true
   },
   "outputs": [],
   "source": [
    "W_output = tf.Variable(tf.zeros([num_nodes_h2, 10]))\n",
    "b_output = tf.Variable(tf.zeros([10]))\n",
    "logits = tf.matmul(h2_drop, W_output) + b_output"
   ]
  },
  {
   "cell_type": "code",
   "execution_count": 14,
   "metadata": {
    "collapsed": true
   },
   "outputs": [],
   "source": [
    "y = tf.nn.softmax(logits)\n",
    "y_soft_target = softmax_with_temperature(logits, temp=T)"
   ]
  },
  {
   "cell_type": "code",
   "execution_count": 15,
   "metadata": {
    "collapsed": true
   },
   "outputs": [],
   "source": [
    "loss_hard_target = -tf.reduce_sum(y_ * tf.log(y), reduction_indices=[1])\n",
    "loss_soft_target = -tf.reduce_sum(soft_target_ * tf.log(y_soft_target), \\\n",
    "                                  reduction_indices=[1])"
   ]
  },
  {
   "cell_type": "code",
   "execution_count": 16,
   "metadata": {
    "collapsed": true
   },
   "outputs": [],
   "source": [
    "loss = tf.reduce_mean(\\\n",
    "                      tf.square(T) * loss_hard_target \\\n",
    "                      + tf.square(T) * loss_soft_target)"
   ]
  },
  {
   "cell_type": "code",
   "execution_count": 17,
   "metadata": {
    "collapsed": true
   },
   "outputs": [],
   "source": [
    "train_step = tf.train.GradientDescentOptimizer(learning_rate=learning_rate).minimize(loss)"
   ]
  },
  {
   "cell_type": "code",
   "execution_count": 18,
   "metadata": {
    "collapsed": true
   },
   "outputs": [],
   "source": [
    "correct_prediction = tf.equal(tf.argmax(y,1), tf.argmax(y_,1))\n",
    "accuracy = tf.reduce_mean(tf.cast(correct_prediction, tf.float32))"
   ]
  },
  {
   "cell_type": "code",
   "execution_count": 19,
   "metadata": {
    "collapsed": true
   },
   "outputs": [],
   "source": [
    "saver = tf.train.Saver()"
   ]
  },
  {
   "cell_type": "code",
   "execution_count": 20,
   "metadata": {
    "collapsed": true
   },
   "outputs": [],
   "source": [
    "losses = []\n",
    "accs = []\n",
    "test_accs = []"
   ]
  },
  {
   "cell_type": "code",
   "execution_count": 21,
   "metadata": {},
   "outputs": [
    {
     "name": "stdout",
     "output_type": "stream",
     "text": [
      "Epoch : 1, Loss : 6.967591, Accuracy: 0.880000, Test accuracy: 0.868700\n",
      "Epoch : 2, Loss : 6.137230, Accuracy: 0.920000, Test accuracy: 0.892300\n",
      "Epoch : 3, Loss : 5.013751, Accuracy: 0.940000, Test accuracy: 0.904100\n",
      "Epoch : 4, Loss : 6.543464, Accuracy: 0.940000, Test accuracy: 0.911400\n",
      "Epoch : 5, Loss : 4.962038, Accuracy: 0.940000, Test accuracy: 0.917300\n",
      "Epoch : 6, Loss : 5.232879, Accuracy: 0.920000, Test accuracy: 0.918500\n",
      "Epoch : 7, Loss : 5.688709, Accuracy: 0.900000, Test accuracy: 0.922500\n",
      "Epoch : 8, Loss : 4.305278, Accuracy: 1.000000, Test accuracy: 0.926200\n",
      "Epoch : 9, Loss : 4.745485, Accuracy: 0.960000, Test accuracy: 0.927200\n",
      "Epoch : 10, Loss : 4.607293, Accuracy: 0.940000, Test accuracy: 0.930400\n",
      "Epoch : 11, Loss : 4.504891, Accuracy: 0.940000, Test accuracy: 0.933100\n",
      "Epoch : 12, Loss : 7.081215, Accuracy: 0.860000, Test accuracy: 0.934100\n",
      "Epoch : 13, Loss : 5.432238, Accuracy: 0.900000, Test accuracy: 0.936600\n",
      "Epoch : 14, Loss : 5.656033, Accuracy: 0.860000, Test accuracy: 0.936800\n",
      "Epoch : 15, Loss : 5.551736, Accuracy: 0.920000, Test accuracy: 0.938200\n",
      "Epoch : 16, Loss : 4.492403, Accuracy: 0.980000, Test accuracy: 0.939000\n",
      "Epoch : 17, Loss : 4.793263, Accuracy: 0.940000, Test accuracy: 0.941300\n",
      "Epoch : 18, Loss : 5.325309, Accuracy: 0.940000, Test accuracy: 0.942000\n",
      "Epoch : 19, Loss : 7.530385, Accuracy: 0.880000, Test accuracy: 0.942000\n",
      "Epoch : 20, Loss : 4.378253, Accuracy: 0.980000, Test accuracy: 0.944200\n",
      "Epoch : 21, Loss : 4.410181, Accuracy: 0.940000, Test accuracy: 0.944400\n",
      "Epoch : 22, Loss : 3.968859, Accuracy: 0.960000, Test accuracy: 0.946100\n",
      "Epoch : 23, Loss : 4.821953, Accuracy: 0.960000, Test accuracy: 0.946100\n",
      "Epoch : 24, Loss : 5.384928, Accuracy: 0.920000, Test accuracy: 0.946600\n",
      "Epoch : 25, Loss : 4.832449, Accuracy: 0.940000, Test accuracy: 0.947900\n",
      "Epoch : 26, Loss : 4.334980, Accuracy: 0.980000, Test accuracy: 0.947000\n",
      "Epoch : 27, Loss : 4.919791, Accuracy: 0.940000, Test accuracy: 0.947700\n",
      "Epoch : 28, Loss : 4.843676, Accuracy: 0.940000, Test accuracy: 0.948000\n",
      "Epoch : 29, Loss : 5.004155, Accuracy: 0.940000, Test accuracy: 0.949500\n",
      "Epoch : 30, Loss : 4.593473, Accuracy: 0.960000, Test accuracy: 0.950300\n",
      "Epoch : 31, Loss : 5.109921, Accuracy: 0.960000, Test accuracy: 0.950200\n",
      "Epoch : 32, Loss : 4.212982, Accuracy: 0.940000, Test accuracy: 0.950100\n",
      "Epoch : 33, Loss : 3.971357, Accuracy: 0.960000, Test accuracy: 0.950400\n",
      "Epoch : 34, Loss : 4.466392, Accuracy: 0.940000, Test accuracy: 0.951200\n",
      "Epoch : 35, Loss : 4.567181, Accuracy: 0.920000, Test accuracy: 0.951500\n",
      "Epoch : 36, Loss : 5.166122, Accuracy: 0.940000, Test accuracy: 0.953200\n",
      "Epoch : 37, Loss : 3.948266, Accuracy: 0.960000, Test accuracy: 0.953300\n",
      "Epoch : 38, Loss : 4.549667, Accuracy: 0.980000, Test accuracy: 0.954400\n",
      "Epoch : 39, Loss : 5.564534, Accuracy: 0.920000, Test accuracy: 0.954300\n",
      "Epoch : 40, Loss : 5.727976, Accuracy: 0.920000, Test accuracy: 0.954200\n",
      "Epoch : 41, Loss : 5.335679, Accuracy: 0.940000, Test accuracy: 0.954400\n",
      "Epoch : 42, Loss : 5.585404, Accuracy: 0.920000, Test accuracy: 0.954700\n",
      "Epoch : 43, Loss : 4.288487, Accuracy: 0.940000, Test accuracy: 0.955200\n",
      "Epoch : 44, Loss : 3.637958, Accuracy: 0.980000, Test accuracy: 0.955700\n",
      "Epoch : 45, Loss : 4.529787, Accuracy: 0.960000, Test accuracy: 0.955200\n",
      "Epoch : 46, Loss : 4.863214, Accuracy: 0.940000, Test accuracy: 0.955600\n",
      "Epoch : 47, Loss : 4.020844, Accuracy: 0.960000, Test accuracy: 0.955600\n",
      "Epoch : 48, Loss : 4.037806, Accuracy: 0.960000, Test accuracy: 0.956300\n",
      "Epoch : 49, Loss : 5.147352, Accuracy: 0.920000, Test accuracy: 0.957200\n",
      "Epoch : 50, Loss : 5.321830, Accuracy: 0.940000, Test accuracy: 0.956600\n",
      "... completed!\n"
     ]
    }
   ],
   "source": [
    "with tf.Session() as sess:\n",
    "    sess.run(tf.global_variables_initializer())\n",
    "    for epoch in range(n_epochs):\n",
    "        x_shuffle, y_shuffle, soft_targets_shuffle \\\n",
    "                = shuffle(mnist.train.images, mnist.train.labels, soft_targets)\n",
    "        for i in range(n_batches):\n",
    "            start = i * batch_size\n",
    "            end = start + batch_size\n",
    "            batch_x, batch_y, batch_soft_targets \\\n",
    "                    = x_shuffle[start:end], y_shuffle[start:end], soft_targets_shuffle[start:end]\n",
    "            sess.run(train_step, feed_dict={\n",
    "                                            x: batch_x, y_: batch_y, soft_target_:batch_soft_targets, \n",
    "                                            keep_prob:0.5, T:2.0})\n",
    "        train_loss = sess.run(loss, feed_dict={\n",
    "                                            x: batch_x, y_: batch_y, soft_target_:batch_soft_targets, \n",
    "                                            keep_prob:0.5, T:2.0})\n",
    "        train_accuracy = sess.run(accuracy, feed_dict={\n",
    "                                            x: batch_x, y_: batch_y, keep_prob:1.0, T:1.0})\n",
    "        test_accuracy = sess.run(accuracy, feed_dict={\n",
    "                                            x: mnist.test.images, y_: mnist.test.labels, keep_prob:1.0, T:1.0})\n",
    "        print(\"Epoch : %i, Loss : %f, Accuracy: %f, Test accuracy: %f\" % (\n",
    "                epoch+1, train_loss, train_accuracy, test_accuracy))\n",
    "        saver.save(sess, \"model_student\", global_step=epoch+1)\n",
    "        losses.append(train_loss)\n",
    "        accs.append(train_accuracy)\n",
    "        test_accs.append(test_accuracy)\n",
    "    print(\"... completed!\")"
   ]
  },
  {
   "cell_type": "code",
   "execution_count": 24,
   "metadata": {},
   "outputs": [
    {
     "name": "stdout",
     "output_type": "stream",
     "text": [
      "model_student-46.data-00000-of-00001  model_student-48.meta\r\n",
      "model_student-46.index\t\t      model_student-49.data-00000-of-00001\r\n",
      "model_student-46.meta\t\t      model_student-49.index\r\n",
      "model_student-47.data-00000-of-00001  model_student-49.meta\r\n",
      "model_student-47.index\t\t      model_student-50.data-00000-of-00001\r\n",
      "model_student-47.meta\t\t      model_student-50.index\r\n",
      "model_student-48.data-00000-of-00001  model_student-50.meta\r\n",
      "model_student-48.index\r\n"
     ]
    }
   ],
   "source": [
    "! ls model_student*"
   ]
  },
  {
   "cell_type": "code",
   "execution_count": 22,
   "metadata": {},
   "outputs": [
    {
     "data": {
      "text/plain": [
       "<matplotlib.legend.Legend at 0x7f62facbed10>"
      ]
     },
     "execution_count": 22,
     "metadata": {},
     "output_type": "execute_result"
    },
    {
     "data": {
      "image/png": "[encoded data removed]",
      "text/plain": [
       "<matplotlib.figure.Figure at 0x7f62fed31450>"
      ]
     },
     "metadata": {},
     "output_type": "display_data"
    }
   ],
   "source": [
    "plt.title(\"Loss of student\")\n",
    "plt.xlabel(\"Epochs\")\n",
    "plt.ylabel(\"Loss\")\n",
    "plt.plot(range(1, len(losses)+1), losses, label='loss')\n",
    "plt.legend()"
   ]
  },
  {
   "cell_type": "code",
   "execution_count": 23,
   "metadata": {},
   "outputs": [
    {
     "data": {
      "text/plain": [
       "<matplotlib.legend.Legend at 0x7f62fa56aa90>"
      ]
     },
     "execution_count": 23,
     "metadata": {},
     "output_type": "execute_result"
    },
    {
     "data": {
      "image/png": "[encoded data removed]",
      "text/plain": [
       "<matplotlib.figure.Figure at 0x7f62fac33610>"
      ]
     },
     "metadata": {},
     "output_type": "display_data"
    }
   ],
   "source": [
    "plt.title(\"Accuracy of teacher\")\n",
    "plt.xlabel(\"Epochs\")\n",
    "plt.ylabel(\"Accuracy\")\n",
    "plt.plot(range(1, len(accs)+1), accs, label='Training')\n",
    "plt.plot(range(1, len(test_accs)+1), test_accs, label='Test')\n",
    "plt.legend()"
   ]
  },
  {
   "cell_type": "code",
   "execution_count": 25,
   "metadata": {},
   "outputs": [
    {
     "name": "stdout",
     "output_type": "stream",
     "text": [
      "INFO:tensorflow:Restoring parameters from model_student-49\n",
      "0.9572\n"
     ]
    }
   ],
   "source": [
    "with tf.Session() as sess:\n",
    "    saver.restore(sess, \"model_student-49\")\n",
    "    print(sess.run(accuracy, feed_dict={x: mnist.test.images, y_: mnist.test.labels, keep_prob:1.0}))"
   ]
  },
  {
   "cell_type": "code",
   "execution_count": 26,
   "metadata": {
    "collapsed": true
   },
   "outputs": [],
   "source": [
    "np.save(\"loss_student.npy\", np.array(losses))\n",
    "np.save(\"acc_student.npy\", np.array(accs))\n",
    "np.save(\"acc_test_student.npy\", np.array(test_accs))"
   ]
  },
  {
   "cell_type": "code",
   "execution_count": 27,
   "metadata": {},
   "outputs": [
    {
     "name": "stdout",
     "output_type": "stream",
     "text": [
      "acc_student.npy  acc_test_student.npy  loss_student.npy  soft-targets.npy\r\n",
      "acc_teacher.npy  acc_test_teacher.npy  loss_teacher.npy\r\n"
     ]
    }
   ],
   "source": [
    "! ls *.npy"
   ]
  },
  {
   "cell_type": "code",
   "execution_count": null,
   "metadata": {
    "collapsed": true
   },
   "outputs": [],
   "source": []
  }
 ],
 "metadata": {
  "kernelspec": {
   "display_name": "Python 2",
   "language": "python",
   "name": "python2"
  },
  "language_info": {
   "codemirror_mode": {
    "name": "ipython",
    "version": 2
   },
   "file_extension": ".py",
   "mimetype": "text/x-python",
   "name": "python",
   "nbconvert_exporter": "python",
   "pygments_lexer": "ipython2",
   "version": "2.7.12"
  }
 },
 "nbformat": 4,
 "nbformat_minor": 2
}
