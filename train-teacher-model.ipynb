{
 "cells": [
  {
   "cell_type": "code",
   "execution_count": 1,
   "metadata": {
    "collapsed": true
   },
   "outputs": [],
   "source": [
    "from __future__ import absolute_import\n",
    "from __future__ import division\n",
    "from __future__ import print_function"
   ]
  },
  {
   "cell_type": "code",
   "execution_count": 2,
   "metadata": {
    "collapsed": true
   },
   "outputs": [],
   "source": [
    "import random\n",
    "import numpy as np\n",
    "import tensorflow as tf\n",
    "from tensorflow.examples.tutorials.mnist import input_data\n",
    "from sklearn.utils import shuffle\n",
    "import matplotlib.pyplot as plt\n",
    "\n",
    "%matplotlib inline"
   ]
  },
  {
   "cell_type": "code",
   "execution_count": 3,
   "metadata": {
    "collapsed": true
   },
   "outputs": [],
   "source": [
    "random.seed(123)\n",
    "np.random.seed(123)\n",
    "tf.set_random_seed(123)"
   ]
  },
  {
   "cell_type": "code",
   "execution_count": 4,
   "metadata": {},
   "outputs": [
    {
     "name": "stdout",
     "output_type": "stream",
     "text": [
      "Extracting MNIST_data/train-images-idx3-ubyte.gz\n",
      "Extracting MNIST_data/train-labels-idx1-ubyte.gz\n",
      "Extracting MNIST_data/t10k-images-idx3-ubyte.gz\n",
      "Extracting MNIST_data/t10k-labels-idx1-ubyte.gz\n"
     ]
    }
   ],
   "source": [
    "mnist = input_data.read_data_sets(\"MNIST_data/\", one_hot=True)"
   ]
  },
  {
   "cell_type": "code",
   "execution_count": 5,
   "metadata": {
    "collapsed": true
   },
   "outputs": [],
   "source": [
    "n_epochs = 50\n",
    "batch_size = 50\n",
    "num_nodes_h1 = 1200\n",
    "num_nodes_h2 = 1200\n",
    "learning_rate = 0.001"
   ]
  },
  {
   "cell_type": "code",
   "execution_count": 6,
   "metadata": {
    "collapsed": true
   },
   "outputs": [],
   "source": [
    "n_batches = len(mnist.train.images) // batch_size"
   ]
  },
  {
   "cell_type": "code",
   "execution_count": 7,
   "metadata": {
    "collapsed": true
   },
   "outputs": [],
   "source": [
    "def weight_variable(shape):\n",
    "    initial = tf.truncated_normal(shape, stddev=0.1)\n",
    "    return tf.Variable(initial)\n",
    "\n",
    "def bias_variable(shape):\n",
    "    initial = tf.constant(0.1, shape=shape)\n",
    "    return tf.Variable(initial)"
   ]
  },
  {
   "cell_type": "code",
   "execution_count": 8,
   "metadata": {
    "collapsed": true
   },
   "outputs": [],
   "source": [
    "def softmax_with_temperature(logits, temp=1.0, axis=1, name=None):\n",
    "    logits_with_temp = logits / temp\n",
    "    _softmax = tf.exp(logits_with_temp) / tf.reduce_sum(tf.exp(logits_with_temp), axis=axis, keep_dims=True)\n",
    "    return _softmax"
   ]
  },
  {
   "cell_type": "code",
   "execution_count": 9,
   "metadata": {
    "collapsed": true
   },
   "outputs": [],
   "source": [
    "x = tf.placeholder(tf.float32, [None, 784])\n",
    "y_ = tf.placeholder(tf.float32, [None, 10])\n",
    "keep_prob = tf.placeholder(tf.float32)\n",
    "\n",
    "W_h1 = weight_variable([784, num_nodes_h1])\n",
    "b_h1 = bias_variable([num_nodes_h1])\n",
    "h1 = tf.nn.relu(tf.matmul(x, W_h1) + b_h1)\n",
    "h1_drop = tf.nn.dropout(h1, keep_prob)\n",
    "\n",
    "W_h2 = weight_variable([num_nodes_h1, num_nodes_h2])\n",
    "b_h2 = bias_variable([num_nodes_h2])\n",
    "h2 = tf.nn.relu(tf.matmul(h1_drop, W_h2) + b_h2)\n",
    "h2_drop = tf.nn.dropout(h2, keep_prob)\n",
    "\n",
    "W_output = tf.Variable(tf.zeros([num_nodes_h2, 10]))\n",
    "b_output = tf.Variable(tf.zeros([10]))\n",
    "logits = tf.matmul(h2_drop, W_output) + b_output\n",
    "\n",
    "y = tf.nn.softmax(logits)\n",
    "y_soft_target = softmax_with_temperature(logits, temp=2.0)\n",
    "loss = tf.reduce_mean(-tf.reduce_sum(y_*tf.log(y), reduction_indices=[1]))\n",
    "train_step = tf.train.GradientDescentOptimizer(learning_rate=learning_rate).minimize(loss)\n",
    "\n",
    "correct_prediction = tf.equal(tf.argmax(y,1), tf.argmax(y_,1))\n",
    "accuracy = tf.reduce_mean(tf.cast(correct_prediction, tf.float32))"
   ]
  },
  {
   "cell_type": "code",
   "execution_count": 10,
   "metadata": {
    "collapsed": true
   },
   "outputs": [],
   "source": [
    "saver = tf.train.Saver()"
   ]
  },
  {
   "cell_type": "code",
   "execution_count": 11,
   "metadata": {
    "collapsed": true
   },
   "outputs": [],
   "source": [
    "losses = []\n",
    "accs = []\n",
    "test_accs = []"
   ]
  },
  {
   "cell_type": "code",
   "execution_count": 12,
   "metadata": {},
   "outputs": [
    {
     "name": "stdout",
     "output_type": "stream",
     "text": [
      "Epoch : 1, Loss : 0.737658, Accuracy: 0.880000, Test accuracy: 0.870400\n",
      "Epoch : 2, Loss : 0.761210, Accuracy: 0.900000, Test accuracy: 0.877700\n",
      "Epoch : 3, Loss : 0.589440, Accuracy: 0.920000, Test accuracy: 0.890600\n",
      "Epoch : 4, Loss : 0.643363, Accuracy: 0.900000, Test accuracy: 0.899800\n",
      "Epoch : 5, Loss : 0.616030, Accuracy: 0.900000, Test accuracy: 0.900900\n",
      "Epoch : 6, Loss : 0.611837, Accuracy: 0.860000, Test accuracy: 0.907100\n",
      "Epoch : 7, Loss : 0.644065, Accuracy: 0.860000, Test accuracy: 0.909300\n",
      "Epoch : 8, Loss : 0.402908, Accuracy: 0.960000, Test accuracy: 0.911100\n",
      "Epoch : 9, Loss : 0.572865, Accuracy: 0.960000, Test accuracy: 0.907900\n",
      "Epoch : 10, Loss : 0.517091, Accuracy: 0.900000, Test accuracy: 0.914700\n",
      "Epoch : 11, Loss : 0.410243, Accuracy: 0.960000, Test accuracy: 0.914300\n",
      "Epoch : 12, Loss : 0.945787, Accuracy: 0.800000, Test accuracy: 0.916200\n",
      "Epoch : 13, Loss : 0.579927, Accuracy: 0.900000, Test accuracy: 0.917000\n",
      "Epoch : 14, Loss : 0.503721, Accuracy: 0.860000, Test accuracy: 0.918300\n",
      "Epoch : 15, Loss : 0.532836, Accuracy: 0.940000, Test accuracy: 0.918700\n",
      "Epoch : 16, Loss : 0.430869, Accuracy: 0.940000, Test accuracy: 0.920300\n",
      "Epoch : 17, Loss : 0.507770, Accuracy: 0.920000, Test accuracy: 0.920500\n",
      "Epoch : 18, Loss : 0.453390, Accuracy: 0.920000, Test accuracy: 0.925200\n",
      "Epoch : 19, Loss : 0.689247, Accuracy: 0.920000, Test accuracy: 0.926600\n",
      "Epoch : 20, Loss : 0.379528, Accuracy: 0.940000, Test accuracy: 0.926100\n",
      "Epoch : 21, Loss : 0.431854, Accuracy: 0.920000, Test accuracy: 0.926800\n",
      "Epoch : 22, Loss : 0.401332, Accuracy: 0.960000, Test accuracy: 0.927200\n",
      "Epoch : 23, Loss : 0.587959, Accuracy: 0.960000, Test accuracy: 0.928600\n",
      "Epoch : 24, Loss : 0.620436, Accuracy: 0.880000, Test accuracy: 0.927400\n",
      "Epoch : 25, Loss : 0.365284, Accuracy: 0.940000, Test accuracy: 0.929500\n",
      "Epoch : 26, Loss : 0.427203, Accuracy: 0.960000, Test accuracy: 0.930300\n",
      "Epoch : 27, Loss : 0.253378, Accuracy: 0.900000, Test accuracy: 0.930900\n",
      "Epoch : 28, Loss : 0.427291, Accuracy: 0.920000, Test accuracy: 0.930900\n",
      "Epoch : 29, Loss : 0.419228, Accuracy: 0.900000, Test accuracy: 0.933100\n",
      "Epoch : 30, Loss : 0.268259, Accuracy: 0.940000, Test accuracy: 0.933800\n",
      "Epoch : 31, Loss : 0.346434, Accuracy: 0.920000, Test accuracy: 0.933400\n",
      "Epoch : 32, Loss : 0.292012, Accuracy: 0.960000, Test accuracy: 0.933000\n",
      "Epoch : 33, Loss : 0.436467, Accuracy: 0.960000, Test accuracy: 0.935100\n",
      "Epoch : 34, Loss : 0.278833, Accuracy: 0.940000, Test accuracy: 0.934900\n",
      "Epoch : 35, Loss : 0.277775, Accuracy: 0.940000, Test accuracy: 0.937300\n",
      "Epoch : 36, Loss : 0.425421, Accuracy: 0.940000, Test accuracy: 0.937300\n",
      "Epoch : 37, Loss : 0.359349, Accuracy: 0.940000, Test accuracy: 0.937800\n",
      "Epoch : 38, Loss : 0.338428, Accuracy: 0.960000, Test accuracy: 0.937600\n",
      "Epoch : 39, Loss : 0.433454, Accuracy: 0.880000, Test accuracy: 0.937100\n",
      "Epoch : 40, Loss : 0.529196, Accuracy: 0.860000, Test accuracy: 0.938700\n",
      "Epoch : 41, Loss : 0.657454, Accuracy: 0.920000, Test accuracy: 0.938500\n",
      "Epoch : 42, Loss : 0.491150, Accuracy: 0.920000, Test accuracy: 0.938800\n",
      "Epoch : 43, Loss : 0.334001, Accuracy: 0.940000, Test accuracy: 0.940200\n",
      "Epoch : 44, Loss : 0.298841, Accuracy: 0.940000, Test accuracy: 0.941000\n",
      "Epoch : 45, Loss : 0.303926, Accuracy: 0.940000, Test accuracy: 0.939800\n",
      "Epoch : 46, Loss : 0.379016, Accuracy: 0.940000, Test accuracy: 0.939500\n",
      "Epoch : 47, Loss : 0.323499, Accuracy: 0.920000, Test accuracy: 0.941800\n",
      "Epoch : 48, Loss : 0.280397, Accuracy: 0.940000, Test accuracy: 0.943000\n",
      "Epoch : 49, Loss : 0.390579, Accuracy: 0.920000, Test accuracy: 0.942900\n",
      "Epoch : 50, Loss : 0.614709, Accuracy: 0.900000, Test accuracy: 0.941800\n",
      "... completed!\n"
     ]
    }
   ],
   "source": [
    "with tf.Session() as sess:\n",
    "    sess.run(tf.global_variables_initializer())\n",
    "    for epoch in range(n_epochs):\n",
    "        x_shuffle, y_shuffle = shuffle(mnist.train.images, mnist.train.labels)\n",
    "        for i in range(n_batches):\n",
    "            start = i * batch_size\n",
    "            end = start + batch_size\n",
    "            batch_x, batch_y = x_shuffle[start:end], y_shuffle[start:end]\n",
    "            sess.run(train_step, feed_dict={\n",
    "                                            x: batch_x, y_: batch_y, keep_prob:0.5})\n",
    "        train_loss = sess.run(loss, feed_dict={x: batch_x, y_: batch_y, keep_prob:0.5})\n",
    "        train_accuracy = sess.run(accuracy, feed_dict={\n",
    "                                            x: batch_x, y_: batch_y, keep_prob:1.0})\n",
    "        test_accuracy = sess.run(accuracy, feed_dict={\n",
    "                                            x: mnist.test.images, y_: mnist.test.labels, keep_prob:1.0})\n",
    "        print(\"Epoch : %i, Loss : %f, Accuracy: %f, Test accuracy: %f\" % (\n",
    "                epoch+1, train_loss, train_accuracy, test_accuracy))\n",
    "        saver.save(sess, \"model_teacher\", global_step=epoch+1)\n",
    "        losses.append(train_loss)\n",
    "        accs.append(train_accuracy)\n",
    "        test_accs.append(test_accuracy)\n",
    "    print(\"... completed!\")"
   ]
  },
  {
   "cell_type": "code",
   "execution_count": 13,
   "metadata": {},
   "outputs": [
    {
     "data": {
      "text/plain": [
       "<matplotlib.legend.Legend at 0x7fc3cd953cd0>"
      ]
     },
     "execution_count": 13,
     "metadata": {},
     "output_type": "execute_result"
    },
    {
     "data": {
      "image/png": "[encoded data removed]",
      "text/plain": [
       "<matplotlib.figure.Figure at 0x7fc3d220f810>"
      ]
     },
     "metadata": {},
     "output_type": "display_data"
    }
   ],
   "source": [
    "plt.title(\"Loss of teacher\")\n",
    "plt.xlabel(\"Epochs\")\n",
    "plt.ylabel(\"Loss\")\n",
    "plt.plot(range(1, len(losses)+1), losses, label='loss')\n",
    "plt.legend()"
   ]
  },
  {
   "cell_type": "code",
   "execution_count": 14,
   "metadata": {},
   "outputs": [
    {
     "data": {
      "text/plain": [
       "<matplotlib.legend.Legend at 0x7fc3b85319d0>"
      ]
     },
     "execution_count": 14,
     "metadata": {},
     "output_type": "execute_result"
    },
    {
     "data": {
      "image/png": "[encoded data removed]",
      "text/plain": [
       "<matplotlib.figure.Figure at 0x7fc3c52b4550>"
      ]
     },
     "metadata": {},
     "output_type": "display_data"
    }
   ],
   "source": [
    "plt.title(\"Accuracy of teacher\")\n",
    "plt.xlabel(\"Epochs\")\n",
    "plt.ylabel(\"Accuracy\")\n",
    "plt.plot(range(1, len(accs)+1), accs, label='Training')\n",
    "plt.plot(range(1, len(test_accs)+1), test_accs, label='Test')\n",
    "plt.legend()"
   ]
  },
  {
   "cell_type": "code",
   "execution_count": 15,
   "metadata": {
    "collapsed": true
   },
   "outputs": [],
   "source": [
    "np.save(\"loss_teacher.npy\", np.array(losses))\n",
    "np.save(\"acc_teacher.npy\", np.array(accs))\n",
    "np.save(\"acc_test_teacher.npy\", np.array(test_accs))"
   ]
  },
  {
   "cell_type": "code",
   "execution_count": 16,
   "metadata": {},
   "outputs": [
    {
     "name": "stdout",
     "output_type": "stream",
     "text": [
      "model_teacher-46.data-00000-of-00001  model_teacher-48.meta\r\n",
      "model_teacher-46.index\t\t      model_teacher-49.data-00000-of-00001\r\n",
      "model_teacher-46.meta\t\t      model_teacher-49.index\r\n",
      "model_teacher-47.data-00000-of-00001  model_teacher-49.meta\r\n",
      "model_teacher-47.index\t\t      model_teacher-50.data-00000-of-00001\r\n",
      "model_teacher-47.meta\t\t      model_teacher-50.index\r\n",
      "model_teacher-48.data-00000-of-00001  model_teacher-50.meta\r\n",
      "model_teacher-48.index\r\n"
     ]
    }
   ],
   "source": [
    "! ls model_teacher*"
   ]
  },
  {
   "cell_type": "code",
   "execution_count": 17,
   "metadata": {
    "collapsed": true
   },
   "outputs": [],
   "source": [
    "_soft_targets = []"
   ]
  },
  {
   "cell_type": "code",
   "execution_count": 18,
   "metadata": {},
   "outputs": [
    {
     "name": "stdout",
     "output_type": "stream",
     "text": [
      "INFO:tensorflow:Restoring parameters from model_teacher-48\n",
      "0.943\n"
     ]
    }
   ],
   "source": [
    "with tf.Session() as sess:\n",
    "    saver.restore(sess, \"model_teacher-48\")\n",
    "    print(sess.run(accuracy, feed_dict={x: mnist.test.images, y_: mnist.test.labels, keep_prob:1.0}))\n",
    "    for i in range(n_batches):\n",
    "        start = i * batch_size\n",
    "        end = start + batch_size\n",
    "        batch_x = mnist.train.images[start:end]\n",
    "        soft_target = sess.run(y_soft_target, feed_dict={x: batch_x, keep_prob:1.0})\n",
    "        _soft_targets.append(soft_target)"
   ]
  },
  {
   "cell_type": "code",
   "execution_count": 19,
   "metadata": {
    "collapsed": true
   },
   "outputs": [],
   "source": [
    "soft_targets  = np.c_[_soft_targets].reshape(55000, 10)"
   ]
  },
  {
   "cell_type": "code",
   "execution_count": 20,
   "metadata": {},
   "outputs": [
    {
     "data": {
      "text/plain": [
       "array([[  5.26309339e-03,   6.16717292e-03,   1.52134731e-01,\n",
       "          6.11851960e-02,   1.48620130e-02,   4.84602200e-03,\n",
       "          3.68487462e-03,   6.06229186e-01,   2.98353638e-02,\n",
       "          1.15792304e-01],\n",
       "       [  2.40928587e-03,   2.67693494e-03,   1.82554703e-02,\n",
       "          8.58610630e-01,   3.06134025e-04,   1.74290612e-02,\n",
       "          9.34826749e-05,   3.61788599e-03,   8.34569708e-02,\n",
       "          1.31440554e-02]], dtype=float32)"
      ]
     },
     "execution_count": 20,
     "metadata": {},
     "output_type": "execute_result"
    }
   ],
   "source": [
    "soft_targets[:2]"
   ]
  },
  {
   "cell_type": "code",
   "execution_count": 21,
   "metadata": {},
   "outputs": [
    {
     "data": {
      "text/plain": [
       "array([[ 0.,  0.,  0.,  0.,  0.,  0.,  0.,  1.,  0.,  0.],\n",
       "       [ 0.,  0.,  0.,  1.,  0.,  0.,  0.,  0.,  0.,  0.]])"
      ]
     },
     "execution_count": 21,
     "metadata": {},
     "output_type": "execute_result"
    }
   ],
   "source": [
    "mnist.train.labels[:2]"
   ]
  },
  {
   "cell_type": "code",
   "execution_count": 22,
   "metadata": {
    "collapsed": true
   },
   "outputs": [],
   "source": [
    "np.save('soft-targets.npy', soft_targets)"
   ]
  },
  {
   "cell_type": "code",
   "execution_count": 24,
   "metadata": {},
   "outputs": [
    {
     "name": "stdout",
     "output_type": "stream",
     "text": [
      "acc_teacher.npy  acc_test_teacher.npy  loss_teacher.npy  soft-targets.npy\r\n"
     ]
    }
   ],
   "source": [
    "!ls *.npy"
   ]
  },
  {
   "cell_type": "code",
   "execution_count": 25,
   "metadata": {},
   "outputs": [
    {
     "data": {
      "text/plain": [
       "(55000, 10)"
      ]
     },
     "execution_count": 25,
     "metadata": {},
     "output_type": "execute_result"
    }
   ],
   "source": [
    "np.load(file=\"soft-targets.npy\").shape"
   ]
  }
 ],
 "metadata": {
  "kernelspec": {
   "display_name": "Python 2",
   "language": "python",
   "name": "python2"
  },
  "language_info": {
   "codemirror_mode": {
    "name": "ipython",
    "version": 2
   },
   "file_extension": ".py",
   "mimetype": "text/x-python",
   "name": "python",
   "nbconvert_exporter": "python",
   "pygments_lexer": "ipython2",
   "version": "2.7.12"
  }
 },
 "nbformat": 4,
 "nbformat_minor": 2
}
